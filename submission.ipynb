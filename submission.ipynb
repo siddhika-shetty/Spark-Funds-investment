{
 "cells": [
  {
   "cell_type": "markdown",
   "metadata": {},
   "source": [
    "# Business Requirement\n",
    "Spark Funds wants to make investments in a few companies and it has two minor constraints for investments:\n",
    "1. It wants to invest between 5 to 15 million USD per round of investment\n",
    "2. It wants to invest only in English-speaking countries because of the ease of communication with the companies it would invest in.\n",
    "\n",
    "For analysis consider a country to be English speaking only if English is one of the official languages in that country\n",
    "\n",
    "### Business objective: \n",
    "The objective is to identify the best sectors, countries, and a suitable investment type for making investments. The overall strategy is to invest where others are investing, implying that the 'best' sectors and countries are the ones 'where most investors are investing'.\n",
    "\n",
    "### Goal of the Data Analysis:\n",
    "\n",
    "Investment type analysis\n",
    "Country analysis\n",
    "Sector analysis"
   ]
  },
  {
   "cell_type": "markdown",
   "metadata": {},
   "source": [
    "## Checkpoint1: Data Loading\n",
    "Load companies and rounds data into 2 dataframes and name them companies and rounds2 respectively"
   ]
  },
  {
   "cell_type": "code",
   "execution_count": 1,
   "metadata": {},
   "outputs": [],
   "source": [
    "import pandas as pd\n",
    "import matplotlib.pyplot as plt\n",
    "\n",
    "# suppress warnings\n",
    "import warnings\n",
    "warnings.filterwarnings('ignore')"
   ]
  },
  {
   "cell_type": "code",
   "execution_count": 2,
   "metadata": {},
   "outputs": [],
   "source": [
    "companies = pd.read_csv(\"./companies.csv\", encoding = \"unicode_escape\")\n",
    "rounds2 = pd.read_csv(\"./rounds2.csv\", encoding = \"unicode_escape\")"
   ]
  },
  {
   "cell_type": "code",
   "execution_count": 3,
   "metadata": {},
   "outputs": [
    {
     "name": "stdout",
     "output_type": "stream",
     "text": [
      "<class 'pandas.core.frame.DataFrame'>\n",
      "RangeIndex: 114949 entries, 0 to 114948\n",
      "Data columns (total 6 columns):\n",
      " #   Column                   Non-Null Count   Dtype  \n",
      "---  ------                   --------------   -----  \n",
      " 0   company_permalink        114949 non-null  object \n",
      " 1   funding_round_permalink  114949 non-null  object \n",
      " 2   funding_round_type       114949 non-null  object \n",
      " 3   funding_round_code       31140 non-null   object \n",
      " 4   funded_at                114949 non-null  object \n",
      " 5   raised_amount_usd        94959 non-null   float64\n",
      "dtypes: float64(1), object(5)\n",
      "memory usage: 5.3+ MB\n"
     ]
    }
   ],
   "source": [
    "rounds2.info()"
   ]
  },
  {
   "cell_type": "code",
   "execution_count": 4,
   "metadata": {},
   "outputs": [
    {
     "data": {
      "text/html": [
       "<div>\n",
       "<style scoped>\n",
       "    .dataframe tbody tr th:only-of-type {\n",
       "        vertical-align: middle;\n",
       "    }\n",
       "\n",
       "    .dataframe tbody tr th {\n",
       "        vertical-align: top;\n",
       "    }\n",
       "\n",
       "    .dataframe thead th {\n",
       "        text-align: right;\n",
       "    }\n",
       "</style>\n",
       "<table border=\"1\" class=\"dataframe\">\n",
       "  <thead>\n",
       "    <tr style=\"text-align: right;\">\n",
       "      <th></th>\n",
       "      <th>company_permalink</th>\n",
       "      <th>funding_round_permalink</th>\n",
       "      <th>funding_round_type</th>\n",
       "      <th>funding_round_code</th>\n",
       "      <th>funded_at</th>\n",
       "      <th>raised_amount_usd</th>\n",
       "    </tr>\n",
       "  </thead>\n",
       "  <tbody>\n",
       "    <tr>\n",
       "      <th>0</th>\n",
       "      <td>/organization/-fame</td>\n",
       "      <td>/funding-round/9a01d05418af9f794eebff7ace91f638</td>\n",
       "      <td>venture</td>\n",
       "      <td>B</td>\n",
       "      <td>05-01-2015</td>\n",
       "      <td>10000000.0</td>\n",
       "    </tr>\n",
       "    <tr>\n",
       "      <th>1</th>\n",
       "      <td>/organization/-qounter</td>\n",
       "      <td>/funding-round/22dacff496eb7acb2b901dec1dfe5633</td>\n",
       "      <td>venture</td>\n",
       "      <td>A</td>\n",
       "      <td>14-10-2014</td>\n",
       "      <td>NaN</td>\n",
       "    </tr>\n",
       "    <tr>\n",
       "      <th>2</th>\n",
       "      <td>/organization/-qounter</td>\n",
       "      <td>/funding-round/b44fbb94153f6cdef13083530bb48030</td>\n",
       "      <td>seed</td>\n",
       "      <td>NaN</td>\n",
       "      <td>01-03-2014</td>\n",
       "      <td>700000.0</td>\n",
       "    </tr>\n",
       "    <tr>\n",
       "      <th>3</th>\n",
       "      <td>/organization/-the-one-of-them-inc-</td>\n",
       "      <td>/funding-round/650b8f704416801069bb178a1418776b</td>\n",
       "      <td>venture</td>\n",
       "      <td>B</td>\n",
       "      <td>30-01-2014</td>\n",
       "      <td>3406878.0</td>\n",
       "    </tr>\n",
       "    <tr>\n",
       "      <th>4</th>\n",
       "      <td>/organization/0-6-com</td>\n",
       "      <td>/funding-round/5727accaeaa57461bd22a9bdd945382d</td>\n",
       "      <td>venture</td>\n",
       "      <td>A</td>\n",
       "      <td>19-03-2008</td>\n",
       "      <td>2000000.0</td>\n",
       "    </tr>\n",
       "  </tbody>\n",
       "</table>\n",
       "</div>"
      ],
      "text/plain": [
       "                     company_permalink  \\\n",
       "0                  /organization/-fame   \n",
       "1               /organization/-qounter   \n",
       "2               /organization/-qounter   \n",
       "3  /organization/-the-one-of-them-inc-   \n",
       "4                /organization/0-6-com   \n",
       "\n",
       "                           funding_round_permalink funding_round_type  \\\n",
       "0  /funding-round/9a01d05418af9f794eebff7ace91f638            venture   \n",
       "1  /funding-round/22dacff496eb7acb2b901dec1dfe5633            venture   \n",
       "2  /funding-round/b44fbb94153f6cdef13083530bb48030               seed   \n",
       "3  /funding-round/650b8f704416801069bb178a1418776b            venture   \n",
       "4  /funding-round/5727accaeaa57461bd22a9bdd945382d            venture   \n",
       "\n",
       "  funding_round_code   funded_at  raised_amount_usd  \n",
       "0                  B  05-01-2015         10000000.0  \n",
       "1                  A  14-10-2014                NaN  \n",
       "2                NaN  01-03-2014           700000.0  \n",
       "3                  B  30-01-2014          3406878.0  \n",
       "4                  A  19-03-2008          2000000.0  "
      ]
     },
     "execution_count": 4,
     "metadata": {},
     "output_type": "execute_result"
    }
   ],
   "source": [
    "# as part of data cleaning lower case change should be applied to company permalink to be in sync\n",
    "rounds2['company_permalink'] = rounds2['company_permalink'].str.lower()\n",
    "rounds2.head()"
   ]
  },
  {
   "cell_type": "code",
   "execution_count": 5,
   "metadata": {},
   "outputs": [
    {
     "data": {
      "text/html": [
       "<div>\n",
       "<style scoped>\n",
       "    .dataframe tbody tr th:only-of-type {\n",
       "        vertical-align: middle;\n",
       "    }\n",
       "\n",
       "    .dataframe tbody tr th {\n",
       "        vertical-align: top;\n",
       "    }\n",
       "\n",
       "    .dataframe thead th {\n",
       "        text-align: right;\n",
       "    }\n",
       "</style>\n",
       "<table border=\"1\" class=\"dataframe\">\n",
       "  <thead>\n",
       "    <tr style=\"text-align: right;\">\n",
       "      <th></th>\n",
       "      <th>permalink</th>\n",
       "      <th>name</th>\n",
       "      <th>homepage_url</th>\n",
       "      <th>category_list</th>\n",
       "      <th>status</th>\n",
       "      <th>country_code</th>\n",
       "      <th>state_code</th>\n",
       "      <th>region</th>\n",
       "      <th>city</th>\n",
       "      <th>founded_at</th>\n",
       "    </tr>\n",
       "  </thead>\n",
       "  <tbody>\n",
       "    <tr>\n",
       "      <th>0</th>\n",
       "      <td>/organization/-fame</td>\n",
       "      <td>#fame</td>\n",
       "      <td>http://livfame.com</td>\n",
       "      <td>Media</td>\n",
       "      <td>operating</td>\n",
       "      <td>IND</td>\n",
       "      <td>16</td>\n",
       "      <td>Mumbai</td>\n",
       "      <td>Mumbai</td>\n",
       "      <td>NaN</td>\n",
       "    </tr>\n",
       "    <tr>\n",
       "      <th>1</th>\n",
       "      <td>/organization/-qounter</td>\n",
       "      <td>:Qounter</td>\n",
       "      <td>http://www.qounter.com</td>\n",
       "      <td>Application Platforms|Real Time|Social Network...</td>\n",
       "      <td>operating</td>\n",
       "      <td>USA</td>\n",
       "      <td>DE</td>\n",
       "      <td>DE - Other</td>\n",
       "      <td>Delaware City</td>\n",
       "      <td>04-09-2014</td>\n",
       "    </tr>\n",
       "    <tr>\n",
       "      <th>2</th>\n",
       "      <td>/organization/-the-one-of-them-inc-</td>\n",
       "      <td>(THE) ONE of THEM,Inc.</td>\n",
       "      <td>http://oneofthem.jp</td>\n",
       "      <td>Apps|Games|Mobile</td>\n",
       "      <td>operating</td>\n",
       "      <td>NaN</td>\n",
       "      <td>NaN</td>\n",
       "      <td>NaN</td>\n",
       "      <td>NaN</td>\n",
       "      <td>NaN</td>\n",
       "    </tr>\n",
       "    <tr>\n",
       "      <th>3</th>\n",
       "      <td>/organization/0-6-com</td>\n",
       "      <td>0-6.com</td>\n",
       "      <td>http://www.0-6.com</td>\n",
       "      <td>Curated Web</td>\n",
       "      <td>operating</td>\n",
       "      <td>CHN</td>\n",
       "      <td>22</td>\n",
       "      <td>Beijing</td>\n",
       "      <td>Beijing</td>\n",
       "      <td>01-01-2007</td>\n",
       "    </tr>\n",
       "    <tr>\n",
       "      <th>4</th>\n",
       "      <td>/organization/004-technologies</td>\n",
       "      <td>004 Technologies</td>\n",
       "      <td>http://004gmbh.de/en/004-interact</td>\n",
       "      <td>Software</td>\n",
       "      <td>operating</td>\n",
       "      <td>USA</td>\n",
       "      <td>IL</td>\n",
       "      <td>Springfield, Illinois</td>\n",
       "      <td>Champaign</td>\n",
       "      <td>01-01-2010</td>\n",
       "    </tr>\n",
       "  </tbody>\n",
       "</table>\n",
       "</div>"
      ],
      "text/plain": [
       "                             permalink                    name  \\\n",
       "0                  /organization/-fame                   #fame   \n",
       "1               /organization/-qounter                :Qounter   \n",
       "2  /organization/-the-one-of-them-inc-  (THE) ONE of THEM,Inc.   \n",
       "3                /organization/0-6-com                 0-6.com   \n",
       "4       /organization/004-technologies        004 Technologies   \n",
       "\n",
       "                        homepage_url  \\\n",
       "0                 http://livfame.com   \n",
       "1             http://www.qounter.com   \n",
       "2                http://oneofthem.jp   \n",
       "3                 http://www.0-6.com   \n",
       "4  http://004gmbh.de/en/004-interact   \n",
       "\n",
       "                                       category_list     status country_code  \\\n",
       "0                                              Media  operating          IND   \n",
       "1  Application Platforms|Real Time|Social Network...  operating          USA   \n",
       "2                                  Apps|Games|Mobile  operating          NaN   \n",
       "3                                        Curated Web  operating          CHN   \n",
       "4                                           Software  operating          USA   \n",
       "\n",
       "  state_code                 region           city  founded_at  \n",
       "0         16                 Mumbai         Mumbai         NaN  \n",
       "1         DE             DE - Other  Delaware City  04-09-2014  \n",
       "2        NaN                    NaN            NaN         NaN  \n",
       "3         22                Beijing        Beijing  01-01-2007  \n",
       "4         IL  Springfield, Illinois      Champaign  01-01-2010  "
      ]
     },
     "execution_count": 5,
     "metadata": {},
     "output_type": "execute_result"
    }
   ],
   "source": [
    "companies['permalink'] = companies['permalink'].str.lower()\n",
    "companies.head()"
   ]
  },
  {
   "cell_type": "code",
   "execution_count": 6,
   "metadata": {},
   "outputs": [
    {
     "data": {
      "text/plain": [
       "/organization/thinkgrid                                  1\n",
       "/organization/africa-angels-network                      1\n",
       "/organization/virnetx                                    1\n",
       "/organization/beijing-zhongbaixin-software-technology    1\n",
       "/organization/incline-therapeutics                       1\n",
       "                                                        ..\n",
       "/organization/silentium                                  1\n",
       "/organization/sopogy                                     1\n",
       "/organization/skyepack                                   1\n",
       "/organization/cevec-pharmaceuticals                      1\n",
       "/organization/runa                                       1\n",
       "Name: permalink, Length: 66368, dtype: int64"
      ]
     },
     "execution_count": 6,
     "metadata": {},
     "output_type": "execute_result"
    }
   ],
   "source": [
    "# In the companies data frame, identify column that can be used as the  unique key for each company?\n",
    "companies['permalink'].value_counts()"
   ]
  },
  {
   "cell_type": "code",
   "execution_count": 7,
   "metadata": {},
   "outputs": [
    {
     "data": {
      "text/plain": [
       "shift                       4\n",
       "spire                       4\n",
       "karma                       4\n",
       "#name?                      4\n",
       "kiwi                        4\n",
       "                           ..\n",
       "cloud your car              1\n",
       "hometouch                   1\n",
       "posse                       1\n",
       "kalvista pharmaceuticals    1\n",
       "where                       1\n",
       "Name: name, Length: 66034, dtype: int64"
      ]
     },
     "execution_count": 7,
     "metadata": {},
     "output_type": "execute_result"
    }
   ],
   "source": [
    "companies['name'].str.lower().value_counts()"
   ]
  },
  {
   "cell_type": "markdown",
   "metadata": {},
   "source": [
    "#### since there are duplicates in name, but not in permalink, hence permalink can be considered as unique key for companies data set"
   ]
  },
  {
   "cell_type": "code",
   "execution_count": 8,
   "metadata": {},
   "outputs": [
    {
     "name": "stdout",
     "output_type": "stream",
     "text": [
      "66368\n",
      "66370\n"
     ]
    }
   ],
   "source": [
    "# How many unique companies are present in the companies file and rounds file\n",
    "print(companies['permalink'].nunique())\n",
    "print(rounds2['company_permalink'].nunique())"
   ]
  },
  {
   "cell_type": "code",
   "execution_count": 9,
   "metadata": {},
   "outputs": [
    {
     "data": {
      "text/plain": [
       "{'/organization/e-cã\\x8abica',\n",
       " '/organization/energystone-games-ç\\x81µç\\x9f³æ¸¸æ\\x88\\x8f',\n",
       " '/organization/huizuche-com-æ\\x83\\xa0ç§ÿè½¦',\n",
       " '/organization/magnet-tech-ç£\\x81ç\\x9f³ç§\\x91æ\\x8a\\x80',\n",
       " '/organization/tipcat-interactive-æ²\\x99è\\x88ÿä¿¡æ\\x81¯ç§\\x91æ\\x9a\\x80',\n",
       " '/organization/weiche-tech-å\\x96\\x82è½¦ç§\\x91æ\\x8a\\x80',\n",
       " '/organization/zengame-ç¦\\x85æ¸¸ç§\\x91æ\\x8a\\x80'}"
      ]
     },
     "execution_count": 9,
     "metadata": {},
     "output_type": "execute_result"
    }
   ],
   "source": [
    "# Are there any companies in the rounds2 file which are not  present in companies ? \n",
    "uniq_rounds2 = set(rounds2['company_permalink'].unique())\n",
    "uniq_companies = set(companies['permalink'].unique())\n",
    "\n",
    "# returns list of companies that are present in rounds2, but not in companies\n",
    "uniq_rounds2 - uniq_companies"
   ]
  },
  {
   "cell_type": "markdown",
   "metadata": {},
   "source": [
    "#### Merge the two data frames so that all  variables (columns)  in the companies frame are added to the rounds2 data frame. Name the merged frame master_frame"
   ]
  },
  {
   "cell_type": "code",
   "execution_count": 10,
   "metadata": {},
   "outputs": [
    {
     "data": {
      "text/plain": [
       "(114949, 16)"
      ]
     },
     "execution_count": 10,
     "metadata": {},
     "output_type": "execute_result"
    }
   ],
   "source": [
    "master_frame = pd.merge(rounds2, companies, \n",
    "                  left_on='company_permalink',\n",
    "                  right_on='permalink',\n",
    "                  how='left')\n",
    "master_frame.shape"
   ]
  },
  {
   "cell_type": "markdown",
   "metadata": {},
   "source": [
    "#### Data cleaning\n",
    "- drop unnecessary columns\n",
    "- drop unrequired rows"
   ]
  },
  {
   "cell_type": "code",
   "execution_count": 11,
   "metadata": {},
   "outputs": [
    {
     "data": {
      "text/plain": [
       "company_permalink           0.00\n",
       "funding_round_permalink     0.00\n",
       "funding_round_type          0.00\n",
       "funding_round_code         72.91\n",
       "funded_at                   0.00\n",
       "raised_amount_usd          17.39\n",
       "permalink                   0.01\n",
       "name                        0.01\n",
       "homepage_url                5.34\n",
       "category_list               2.97\n",
       "status                      0.01\n",
       "country_code                7.55\n",
       "state_code                  9.52\n",
       "region                      8.84\n",
       "city                        8.84\n",
       "founded_at                 17.86\n",
       "dtype: float64"
      ]
     },
     "execution_count": 11,
     "metadata": {},
     "output_type": "execute_result"
    }
   ],
   "source": [
    "# express missing values per column as % of total number of values to check for column level density\n",
    "round(100*(master_frame.isnull().sum()/len(master_frame.index)), 2)"
   ]
  },
  {
   "cell_type": "code",
   "execution_count": 12,
   "metadata": {},
   "outputs": [],
   "source": [
    "## removing columns that add no value to the conclusion to be derived and has high missing values\n",
    "master_frame = master_frame.drop(['funding_round_code', 'founded_at', 'state_code', 'city', 'region', 'homepage_url'], axis = 1)"
   ]
  },
  {
   "cell_type": "code",
   "execution_count": 13,
   "metadata": {},
   "outputs": [
    {
     "data": {
      "text/plain": [
       "company_permalink           0.00\n",
       "funding_round_permalink     0.00\n",
       "funding_round_type          0.00\n",
       "funded_at                   0.00\n",
       "raised_amount_usd          17.39\n",
       "permalink                   0.01\n",
       "name                        0.01\n",
       "category_list               2.97\n",
       "status                      0.01\n",
       "country_code                7.55\n",
       "dtype: float64"
      ]
     },
     "execution_count": 13,
     "metadata": {},
     "output_type": "execute_result"
    }
   ],
   "source": [
    "master_frame.isnull().sum(axis = 0)\n",
    "round(100*(master_frame.isnull().sum()/len(master_frame.index)), 2)"
   ]
  },
  {
   "cell_type": "markdown",
   "metadata": {},
   "source": [
    "#### there are many records where raised_amount_usd /  country code /  category list is null and such records add no value to the data and so such data can be removed."
   ]
  },
  {
   "cell_type": "code",
   "execution_count": 14,
   "metadata": {},
   "outputs": [
    {
     "name": "stdout",
     "output_type": "stream",
     "text": [
      "<class 'pandas.core.frame.DataFrame'>\n",
      "Int64Index: 88529 entries, 0 to 114947\n",
      "Data columns (total 10 columns):\n",
      " #   Column                   Non-Null Count  Dtype  \n",
      "---  ------                   --------------  -----  \n",
      " 0   company_permalink        88529 non-null  object \n",
      " 1   funding_round_permalink  88529 non-null  object \n",
      " 2   funding_round_type       88529 non-null  object \n",
      " 3   funded_at                88529 non-null  object \n",
      " 4   raised_amount_usd        88529 non-null  float64\n",
      " 5   permalink                88529 non-null  object \n",
      " 6   name                     88528 non-null  object \n",
      " 7   category_list            88529 non-null  object \n",
      " 8   status                   88529 non-null  object \n",
      " 9   country_code             88529 non-null  object \n",
      "dtypes: float64(1), object(9)\n",
      "memory usage: 7.4+ MB\n"
     ]
    }
   ],
   "source": [
    "master_frame = master_frame[~(master_frame['raised_amount_usd'].isnull() | master_frame['country_code'].isnull() | master_frame['category_list'].isnull())]\n",
    "master_frame.info()"
   ]
  },
  {
   "cell_type": "markdown",
   "metadata": {},
   "source": [
    "## Checkpoint2 : Funding type analysis\n",
    "Spark Funds wants to choose one of these four investment types for each potential investment they will make."
   ]
  },
  {
   "cell_type": "code",
   "execution_count": 15,
   "metadata": {},
   "outputs": [
    {
     "data": {
      "text/plain": [
       "venture                  47809\n",
       "seed                     21095\n",
       "debt_financing            6506\n",
       "angel                     4400\n",
       "grant                     1939\n",
       "private_equity            1820\n",
       "undisclosed               1345\n",
       "convertible_note          1320\n",
       "equity_crowdfunding       1128\n",
       "post_ipo_equity            598\n",
       "product_crowdfunding       330\n",
       "post_ipo_debt              151\n",
       "non_equity_assistance       60\n",
       "secondary_market            28\n",
       "Name: funding_round_type, dtype: int64"
      ]
     },
     "execution_count": 15,
     "metadata": {},
     "output_type": "execute_result"
    }
   ],
   "source": [
    "master_frame['funding_round_type'].value_counts()"
   ]
  },
  {
   "cell_type": "code",
   "execution_count": 16,
   "metadata": {},
   "outputs": [],
   "source": [
    "# Calculate the most representative value of the investment amount for each of the four funding types (venture, angel, seed, \n",
    "# and private equity) \n",
    "master_frame1 = master_frame[master_frame['funding_round_type'].isin (['venture','angel', 'seed', 'private_equity'])]"
   ]
  },
  {
   "cell_type": "code",
   "execution_count": 17,
   "metadata": {},
   "outputs": [
    {
     "data": {
      "text/html": [
       "<div>\n",
       "<style scoped>\n",
       "    .dataframe tbody tr th:only-of-type {\n",
       "        vertical-align: middle;\n",
       "    }\n",
       "\n",
       "    .dataframe tbody tr th {\n",
       "        vertical-align: top;\n",
       "    }\n",
       "\n",
       "    .dataframe thead th {\n",
       "        text-align: right;\n",
       "    }\n",
       "</style>\n",
       "<table border=\"1\" class=\"dataframe\">\n",
       "  <thead>\n",
       "    <tr style=\"text-align: right;\">\n",
       "      <th></th>\n",
       "      <th>company_permalink</th>\n",
       "      <th>funding_round_permalink</th>\n",
       "      <th>funding_round_type</th>\n",
       "      <th>funded_at</th>\n",
       "      <th>raised_amount_usd</th>\n",
       "      <th>permalink</th>\n",
       "      <th>name</th>\n",
       "      <th>category_list</th>\n",
       "      <th>status</th>\n",
       "      <th>country_code</th>\n",
       "    </tr>\n",
       "  </thead>\n",
       "  <tbody>\n",
       "    <tr>\n",
       "      <th>0</th>\n",
       "      <td>/organization/-fame</td>\n",
       "      <td>/funding-round/9a01d05418af9f794eebff7ace91f638</td>\n",
       "      <td>venture</td>\n",
       "      <td>05-01-2015</td>\n",
       "      <td>10.000000</td>\n",
       "      <td>/organization/-fame</td>\n",
       "      <td>#fame</td>\n",
       "      <td>Media</td>\n",
       "      <td>operating</td>\n",
       "      <td>IND</td>\n",
       "    </tr>\n",
       "    <tr>\n",
       "      <th>2</th>\n",
       "      <td>/organization/-qounter</td>\n",
       "      <td>/funding-round/b44fbb94153f6cdef13083530bb48030</td>\n",
       "      <td>seed</td>\n",
       "      <td>01-03-2014</td>\n",
       "      <td>0.700000</td>\n",
       "      <td>/organization/-qounter</td>\n",
       "      <td>:Qounter</td>\n",
       "      <td>Application Platforms|Real Time|Social Network...</td>\n",
       "      <td>operating</td>\n",
       "      <td>USA</td>\n",
       "    </tr>\n",
       "    <tr>\n",
       "      <th>4</th>\n",
       "      <td>/organization/0-6-com</td>\n",
       "      <td>/funding-round/5727accaeaa57461bd22a9bdd945382d</td>\n",
       "      <td>venture</td>\n",
       "      <td>19-03-2008</td>\n",
       "      <td>2.000000</td>\n",
       "      <td>/organization/0-6-com</td>\n",
       "      <td>0-6.com</td>\n",
       "      <td>Curated Web</td>\n",
       "      <td>operating</td>\n",
       "      <td>CHN</td>\n",
       "    </tr>\n",
       "    <tr>\n",
       "      <th>7</th>\n",
       "      <td>/organization/0ndine-biomedical-inc</td>\n",
       "      <td>/funding-round/2b9d3ac293d5cdccbecff5c8cb0f327d</td>\n",
       "      <td>seed</td>\n",
       "      <td>11-09-2009</td>\n",
       "      <td>0.043360</td>\n",
       "      <td>/organization/0ndine-biomedical-inc</td>\n",
       "      <td>Ondine Biomedical Inc.</td>\n",
       "      <td>Biotechnology</td>\n",
       "      <td>operating</td>\n",
       "      <td>CAN</td>\n",
       "    </tr>\n",
       "    <tr>\n",
       "      <th>8</th>\n",
       "      <td>/organization/0ndine-biomedical-inc</td>\n",
       "      <td>/funding-round/954b9499724b946ad8c396a57a5f3b72</td>\n",
       "      <td>venture</td>\n",
       "      <td>21-12-2009</td>\n",
       "      <td>0.719491</td>\n",
       "      <td>/organization/0ndine-biomedical-inc</td>\n",
       "      <td>Ondine Biomedical Inc.</td>\n",
       "      <td>Biotechnology</td>\n",
       "      <td>operating</td>\n",
       "      <td>CAN</td>\n",
       "    </tr>\n",
       "  </tbody>\n",
       "</table>\n",
       "</div>"
      ],
      "text/plain": [
       "                     company_permalink  \\\n",
       "0                  /organization/-fame   \n",
       "2               /organization/-qounter   \n",
       "4                /organization/0-6-com   \n",
       "7  /organization/0ndine-biomedical-inc   \n",
       "8  /organization/0ndine-biomedical-inc   \n",
       "\n",
       "                           funding_round_permalink funding_round_type  \\\n",
       "0  /funding-round/9a01d05418af9f794eebff7ace91f638            venture   \n",
       "2  /funding-round/b44fbb94153f6cdef13083530bb48030               seed   \n",
       "4  /funding-round/5727accaeaa57461bd22a9bdd945382d            venture   \n",
       "7  /funding-round/2b9d3ac293d5cdccbecff5c8cb0f327d               seed   \n",
       "8  /funding-round/954b9499724b946ad8c396a57a5f3b72            venture   \n",
       "\n",
       "    funded_at  raised_amount_usd                            permalink  \\\n",
       "0  05-01-2015          10.000000                  /organization/-fame   \n",
       "2  01-03-2014           0.700000               /organization/-qounter   \n",
       "4  19-03-2008           2.000000                /organization/0-6-com   \n",
       "7  11-09-2009           0.043360  /organization/0ndine-biomedical-inc   \n",
       "8  21-12-2009           0.719491  /organization/0ndine-biomedical-inc   \n",
       "\n",
       "                     name                                      category_list  \\\n",
       "0                   #fame                                              Media   \n",
       "2                :Qounter  Application Platforms|Real Time|Social Network...   \n",
       "4                 0-6.com                                        Curated Web   \n",
       "7  Ondine Biomedical Inc.                                      Biotechnology   \n",
       "8  Ondine Biomedical Inc.                                      Biotechnology   \n",
       "\n",
       "      status country_code  \n",
       "0  operating          IND  \n",
       "2  operating          USA  \n",
       "4  operating          CHN  \n",
       "7  operating          CAN  \n",
       "8  operating          CAN  "
      ]
     },
     "execution_count": 17,
     "metadata": {},
     "output_type": "execute_result"
    }
   ],
   "source": [
    "# convert raised amount to million\n",
    "master_frame1['raised_amount_usd'] = master_frame1['raised_amount_usd']/1000000\n",
    "master_frame1.head()"
   ]
  },
  {
   "cell_type": "code",
   "execution_count": 18,
   "metadata": {
    "scrolled": true
   },
   "outputs": [
    {
     "data": {
      "image/png": "[encoded data removed]",
      "text/plain": [
       "<Figure size 432x288 with 1 Axes>"
      ]
     },
     "metadata": {
      "needs_background": "light"
     },
     "output_type": "display_data"
    }
   ],
   "source": [
    "master_frame1.boxplot(column=['raised_amount_usd'], by=['funding_round_type'])\n",
    "plt.show()"
   ]
  },
  {
   "cell_type": "code",
   "execution_count": 19,
   "metadata": {},
   "outputs": [
    {
     "data": {
      "text/plain": [
       "count    75124.000000\n",
       "mean         9.519475\n",
       "std         77.927782\n",
       "min          0.000000\n",
       "25%          0.470585\n",
       "50%          2.000000\n",
       "75%          8.000000\n",
       "max      17600.000000\n",
       "Name: raised_amount_usd, dtype: float64"
      ]
     },
     "execution_count": 19,
     "metadata": {},
     "output_type": "execute_result"
    }
   ],
   "source": [
    "master_frame1['raised_amount_usd'].describe()"
   ]
  },
  {
   "cell_type": "code",
   "execution_count": 20,
   "metadata": {},
   "outputs": [
    {
     "data": {
      "text/html": [
       "<div>\n",
       "<style scoped>\n",
       "    .dataframe tbody tr th:only-of-type {\n",
       "        vertical-align: middle;\n",
       "    }\n",
       "\n",
       "    .dataframe tbody tr th {\n",
       "        vertical-align: top;\n",
       "    }\n",
       "\n",
       "    .dataframe thead th {\n",
       "        text-align: right;\n",
       "    }\n",
       "</style>\n",
       "<table border=\"1\" class=\"dataframe\">\n",
       "  <thead>\n",
       "    <tr style=\"text-align: right;\">\n",
       "      <th></th>\n",
       "      <th>raised_amount_usd</th>\n",
       "    </tr>\n",
       "    <tr>\n",
       "      <th>funding_round_type</th>\n",
       "      <th></th>\n",
       "    </tr>\n",
       "  </thead>\n",
       "  <tbody>\n",
       "    <tr>\n",
       "      <th>angel</th>\n",
       "      <td>0.41</td>\n",
       "    </tr>\n",
       "    <tr>\n",
       "      <th>private_equity</th>\n",
       "      <td>20.00</td>\n",
       "    </tr>\n",
       "    <tr>\n",
       "      <th>seed</th>\n",
       "      <td>0.30</td>\n",
       "    </tr>\n",
       "    <tr>\n",
       "      <th>venture</th>\n",
       "      <td>5.00</td>\n",
       "    </tr>\n",
       "  </tbody>\n",
       "</table>\n",
       "</div>"
      ],
      "text/plain": [
       "                    raised_amount_usd\n",
       "funding_round_type                   \n",
       "angel                            0.41\n",
       "private_equity                  20.00\n",
       "seed                             0.30\n",
       "venture                          5.00"
      ]
     },
     "execution_count": 20,
     "metadata": {},
     "output_type": "execute_result"
    }
   ],
   "source": [
    "# since the raised amount value is skewed across funding_round_type, hence median would be a better measure\n",
    "rn = pd.DataFrame(round(master_frame1.groupby('funding_round_type')['raised_amount_usd'].median(), 2))\n",
    "rn"
   ]
  },
  {
   "cell_type": "code",
   "execution_count": 21,
   "metadata": {},
   "outputs": [
    {
     "data": {
      "image/png": "[encoded data removed]",
      "text/plain": [
       "<Figure size 432x288 with 1 Axes>"
      ]
     },
     "metadata": {
      "needs_background": "light"
     },
     "output_type": "display_data"
    }
   ],
   "source": [
    "# plot bar graph\n",
    "rn.raised_amount_usd.plot(kind='bar' , x=rn.index, y='raised_amount_usd', ylabel = 'Raised Amount (USD in Millions)', title='Funding type Analysis')\n",
    "plt.show()"
   ]
  },
  {
   "cell_type": "markdown",
   "metadata": {},
   "source": [
    "### Since Spark funds wants to invest between 5 - 15M USD per round of investment, venture investment type seems more suitable for Spark"
   ]
  },
  {
   "cell_type": "code",
   "execution_count": 22,
   "metadata": {},
   "outputs": [
    {
     "data": {
      "text/html": [
       "<div>\n",
       "<style scoped>\n",
       "    .dataframe tbody tr th:only-of-type {\n",
       "        vertical-align: middle;\n",
       "    }\n",
       "\n",
       "    .dataframe tbody tr th {\n",
       "        vertical-align: top;\n",
       "    }\n",
       "\n",
       "    .dataframe thead th {\n",
       "        text-align: right;\n",
       "    }\n",
       "</style>\n",
       "<table border=\"1\" class=\"dataframe\">\n",
       "  <thead>\n",
       "    <tr style=\"text-align: right;\">\n",
       "      <th></th>\n",
       "      <th>raised_amount_usd</th>\n",
       "    </tr>\n",
       "    <tr>\n",
       "      <th>country_code</th>\n",
       "      <th></th>\n",
       "    </tr>\n",
       "  </thead>\n",
       "  <tbody>\n",
       "    <tr>\n",
       "      <th>USA</th>\n",
       "      <td>420068.03</td>\n",
       "    </tr>\n",
       "    <tr>\n",
       "      <th>CHN</th>\n",
       "      <td>39338.92</td>\n",
       "    </tr>\n",
       "    <tr>\n",
       "      <th>GBR</th>\n",
       "      <td>20072.81</td>\n",
       "    </tr>\n",
       "    <tr>\n",
       "      <th>IND</th>\n",
       "      <td>14261.51</td>\n",
       "    </tr>\n",
       "    <tr>\n",
       "      <th>CAN</th>\n",
       "      <td>9482.22</td>\n",
       "    </tr>\n",
       "    <tr>\n",
       "      <th>FRA</th>\n",
       "      <td>7226.85</td>\n",
       "    </tr>\n",
       "    <tr>\n",
       "      <th>ISR</th>\n",
       "      <td>6854.35</td>\n",
       "    </tr>\n",
       "    <tr>\n",
       "      <th>DEU</th>\n",
       "      <td>6306.92</td>\n",
       "    </tr>\n",
       "    <tr>\n",
       "      <th>JPN</th>\n",
       "      <td>3167.65</td>\n",
       "    </tr>\n",
       "  </tbody>\n",
       "</table>\n",
       "</div>"
      ],
      "text/plain": [
       "              raised_amount_usd\n",
       "country_code                   \n",
       "USA                   420068.03\n",
       "CHN                    39338.92\n",
       "GBR                    20072.81\n",
       "IND                    14261.51\n",
       "CAN                     9482.22\n",
       "FRA                     7226.85\n",
       "ISR                     6854.35\n",
       "DEU                     6306.92\n",
       "JPN                     3167.65"
      ]
     },
     "execution_count": 22,
     "metadata": {},
     "output_type": "execute_result"
    }
   ],
   "source": [
    "# get top 9 countries which have received the highest total funding across ALL sectors for the chosen investment type\n",
    "mf_venture = master_frame1[(master_frame['funding_round_type']== 'venture')]\n",
    "t9= pd.DataFrame(round(mf_venture.groupby('country_code')['raised_amount_usd'].sum(), 2).sort_values(ascending=False).head(9))\n",
    "t9"
   ]
  },
  {
   "cell_type": "code",
   "execution_count": 23,
   "metadata": {},
   "outputs": [
    {
     "data": {
      "image/png": "[encoded data removed]",
      "text/plain": [
       "<Figure size 432x288 with 1 Axes>"
      ]
     },
     "metadata": {
      "needs_background": "light"
     },
     "output_type": "display_data"
    }
   ],
   "source": [
    "# plot bar graph\n",
    "t9.raised_amount_usd.plot(kind='bar' , x='country_code', y='raised_amount_usd', ylabel = 'Raised amount USD in millions',\n",
    "                          title = 'Country Analysis', color = ['b', 'r', 'g', 'y', 'k'])\n",
    "plt.show()"
   ]
  },
  {
   "cell_type": "code",
   "execution_count": 24,
   "metadata": {},
   "outputs": [
    {
     "data": {
      "text/plain": [
       "Index(['USA', 'CHN', 'GBR', 'IND', 'CAN', 'FRA', 'ISR', 'DEU', 'JPN'], dtype='object', name='country_code')"
      ]
     },
     "execution_count": 24,
     "metadata": {},
     "output_type": "execute_result"
    }
   ],
   "source": [
    "t9.index"
   ]
  },
  {
   "cell_type": "code",
   "execution_count": 25,
   "metadata": {},
   "outputs": [
    {
     "data": {
      "text/plain": [
       "(44118, 10)"
      ]
     },
     "execution_count": 25,
     "metadata": {},
     "output_type": "execute_result"
    }
   ],
   "source": [
    "# For the chosen investment type, make a data frame named top9 with the top nine countries \n",
    "# (based on the total investment amount each country has received)\n",
    "top9 = mf_venture[mf_venture['country_code'].isin(t9.index)]\n",
    "top9.shape"
   ]
  },
  {
   "cell_type": "markdown",
   "metadata": {},
   "source": [
    "#### Identify top 3 english speaking countries\n",
    "Since China is not listed amongst English speaking country, hence top 3 english speaking countries are USA, Great Britain and India"
   ]
  },
  {
   "cell_type": "markdown",
   "metadata": {},
   "source": [
    "## Checkpoint 4: Sector Analysis 1"
   ]
  },
  {
   "cell_type": "markdown",
   "metadata": {},
   "source": [
    "#### category_list needs to be cleaned up to pick the primary sector\n",
    "(as mentioned by CEO they came up with the business rule that the first string before the vertical bar will be considered the primary sector."
   ]
  },
  {
   "cell_type": "code",
   "execution_count": 26,
   "metadata": {},
   "outputs": [
    {
     "data": {
      "text/html": [
       "<div>\n",
       "<style scoped>\n",
       "    .dataframe tbody tr th:only-of-type {\n",
       "        vertical-align: middle;\n",
       "    }\n",
       "\n",
       "    .dataframe tbody tr th {\n",
       "        vertical-align: top;\n",
       "    }\n",
       "\n",
       "    .dataframe thead th {\n",
       "        text-align: right;\n",
       "    }\n",
       "</style>\n",
       "<table border=\"1\" class=\"dataframe\">\n",
       "  <thead>\n",
       "    <tr style=\"text-align: right;\">\n",
       "      <th></th>\n",
       "      <th>company_permalink</th>\n",
       "      <th>funding_round_permalink</th>\n",
       "      <th>funding_round_type</th>\n",
       "      <th>funded_at</th>\n",
       "      <th>raised_amount_usd</th>\n",
       "      <th>permalink</th>\n",
       "      <th>name</th>\n",
       "      <th>category_list</th>\n",
       "      <th>status</th>\n",
       "      <th>country_code</th>\n",
       "    </tr>\n",
       "  </thead>\n",
       "  <tbody>\n",
       "    <tr>\n",
       "      <th>0</th>\n",
       "      <td>/organization/-fame</td>\n",
       "      <td>/funding-round/9a01d05418af9f794eebff7ace91f638</td>\n",
       "      <td>venture</td>\n",
       "      <td>05-01-2015</td>\n",
       "      <td>10.000000</td>\n",
       "      <td>/organization/-fame</td>\n",
       "      <td>#fame</td>\n",
       "      <td>Media</td>\n",
       "      <td>operating</td>\n",
       "      <td>IND</td>\n",
       "    </tr>\n",
       "    <tr>\n",
       "      <th>4</th>\n",
       "      <td>/organization/0-6-com</td>\n",
       "      <td>/funding-round/5727accaeaa57461bd22a9bdd945382d</td>\n",
       "      <td>venture</td>\n",
       "      <td>19-03-2008</td>\n",
       "      <td>2.000000</td>\n",
       "      <td>/organization/0-6-com</td>\n",
       "      <td>0-6.com</td>\n",
       "      <td>Curated Web</td>\n",
       "      <td>operating</td>\n",
       "      <td>CHN</td>\n",
       "    </tr>\n",
       "    <tr>\n",
       "      <th>8</th>\n",
       "      <td>/organization/0ndine-biomedical-inc</td>\n",
       "      <td>/funding-round/954b9499724b946ad8c396a57a5f3b72</td>\n",
       "      <td>venture</td>\n",
       "      <td>21-12-2009</td>\n",
       "      <td>0.719491</td>\n",
       "      <td>/organization/0ndine-biomedical-inc</td>\n",
       "      <td>Ondine Biomedical Inc.</td>\n",
       "      <td>Biotechnology</td>\n",
       "      <td>operating</td>\n",
       "      <td>CAN</td>\n",
       "    </tr>\n",
       "    <tr>\n",
       "      <th>10</th>\n",
       "      <td>/organization/0xdata</td>\n",
       "      <td>/funding-round/3bb2ee4a2d89251a10aaa735b1180e44</td>\n",
       "      <td>venture</td>\n",
       "      <td>09-11-2015</td>\n",
       "      <td>20.000000</td>\n",
       "      <td>/organization/0xdata</td>\n",
       "      <td>H2O.ai</td>\n",
       "      <td>Analytics</td>\n",
       "      <td>operating</td>\n",
       "      <td>USA</td>\n",
       "    </tr>\n",
       "    <tr>\n",
       "      <th>11</th>\n",
       "      <td>/organization/0xdata</td>\n",
       "      <td>/funding-round/ae2a174c06517c2394aed45006322a7e</td>\n",
       "      <td>venture</td>\n",
       "      <td>03-01-2013</td>\n",
       "      <td>1.700000</td>\n",
       "      <td>/organization/0xdata</td>\n",
       "      <td>H2O.ai</td>\n",
       "      <td>Analytics</td>\n",
       "      <td>operating</td>\n",
       "      <td>USA</td>\n",
       "    </tr>\n",
       "    <tr>\n",
       "      <th>12</th>\n",
       "      <td>/organization/0xdata</td>\n",
       "      <td>/funding-round/e1cfcbe1bdf4c70277c5f29a3482f24e</td>\n",
       "      <td>venture</td>\n",
       "      <td>19-07-2014</td>\n",
       "      <td>8.900000</td>\n",
       "      <td>/organization/0xdata</td>\n",
       "      <td>H2O.ai</td>\n",
       "      <td>Analytics</td>\n",
       "      <td>operating</td>\n",
       "      <td>USA</td>\n",
       "    </tr>\n",
       "    <tr>\n",
       "      <th>22</th>\n",
       "      <td>/organization/1-mainstream</td>\n",
       "      <td>/funding-round/b952cbaf401f310927430c97b68162ea</td>\n",
       "      <td>venture</td>\n",
       "      <td>17-03-2015</td>\n",
       "      <td>5.000000</td>\n",
       "      <td>/organization/1-mainstream</td>\n",
       "      <td>1 Mainstream</td>\n",
       "      <td>Apps</td>\n",
       "      <td>acquired</td>\n",
       "      <td>USA</td>\n",
       "    </tr>\n",
       "    <tr>\n",
       "      <th>28</th>\n",
       "      <td>/organization/10-minutes-with</td>\n",
       "      <td>/funding-round/0faccbbcc5818dc5326469f13f5a8ac8</td>\n",
       "      <td>venture</td>\n",
       "      <td>09-10-2014</td>\n",
       "      <td>4.000000</td>\n",
       "      <td>/organization/10-minutes-with</td>\n",
       "      <td>10 Minutes With</td>\n",
       "      <td>Education</td>\n",
       "      <td>operating</td>\n",
       "      <td>GBR</td>\n",
       "    </tr>\n",
       "    <tr>\n",
       "      <th>34</th>\n",
       "      <td>/organization/1000memories</td>\n",
       "      <td>/funding-round/502bd0e50c27616995e4bdad24605ef8</td>\n",
       "      <td>venture</td>\n",
       "      <td>16-02-2011</td>\n",
       "      <td>2.520000</td>\n",
       "      <td>/organization/1000memories</td>\n",
       "      <td>1000memories</td>\n",
       "      <td>Curated Web</td>\n",
       "      <td>acquired</td>\n",
       "      <td>USA</td>\n",
       "    </tr>\n",
       "    <tr>\n",
       "      <th>38</th>\n",
       "      <td>/organization/1000museums-com</td>\n",
       "      <td>/funding-round/13be128d655076a025221d7fddc90d68</td>\n",
       "      <td>venture</td>\n",
       "      <td>14-10-2009</td>\n",
       "      <td>0.265940</td>\n",
       "      <td>/organization/1000museums-com</td>\n",
       "      <td>1000museums.com</td>\n",
       "      <td>Curated Web</td>\n",
       "      <td>operating</td>\n",
       "      <td>USA</td>\n",
       "    </tr>\n",
       "    <tr>\n",
       "      <th>39</th>\n",
       "      <td>/organization/1000museums-com</td>\n",
       "      <td>/funding-round/6aeb32ab3fc05db2b606d7a2466e8c09</td>\n",
       "      <td>venture</td>\n",
       "      <td>15-01-2014</td>\n",
       "      <td>2.906832</td>\n",
       "      <td>/organization/1000museums-com</td>\n",
       "      <td>1000museums.com</td>\n",
       "      <td>Curated Web</td>\n",
       "      <td>operating</td>\n",
       "      <td>USA</td>\n",
       "    </tr>\n",
       "    <tr>\n",
       "      <th>41</th>\n",
       "      <td>/organization/1000museums-com</td>\n",
       "      <td>/funding-round/89317984885b44f02e4befb9dc2e588c</td>\n",
       "      <td>venture</td>\n",
       "      <td>01-08-2014</td>\n",
       "      <td>1.500000</td>\n",
       "      <td>/organization/1000museums-com</td>\n",
       "      <td>1000museums.com</td>\n",
       "      <td>Curated Web</td>\n",
       "      <td>operating</td>\n",
       "      <td>USA</td>\n",
       "    </tr>\n",
       "    <tr>\n",
       "      <th>44</th>\n",
       "      <td>/organization/1000museums-com</td>\n",
       "      <td>/funding-round/fd1b3064232ba9b3cfb5653a619e82e8</td>\n",
       "      <td>venture</td>\n",
       "      <td>05-04-2011</td>\n",
       "      <td>0.642000</td>\n",
       "      <td>/organization/1000museums-com</td>\n",
       "      <td>1000museums.com</td>\n",
       "      <td>Curated Web</td>\n",
       "      <td>operating</td>\n",
       "      <td>USA</td>\n",
       "    </tr>\n",
       "    <tr>\n",
       "      <th>46</th>\n",
       "      <td>/organization/1001-menus</td>\n",
       "      <td>/funding-round/645b4cd895450b8e0268027cd7813047</td>\n",
       "      <td>venture</td>\n",
       "      <td>04-11-2015</td>\n",
       "      <td>6.602694</td>\n",
       "      <td>/organization/1001-menus</td>\n",
       "      <td>ZenChef</td>\n",
       "      <td>Local Businesses</td>\n",
       "      <td>operating</td>\n",
       "      <td>FRA</td>\n",
       "    </tr>\n",
       "    <tr>\n",
       "      <th>47</th>\n",
       "      <td>/organization/1001-menus</td>\n",
       "      <td>/funding-round/8025123b90c1ab687f9857ffe18bfd3b</td>\n",
       "      <td>venture</td>\n",
       "      <td>13-11-2013</td>\n",
       "      <td>1.736910</td>\n",
       "      <td>/organization/1001-menus</td>\n",
       "      <td>ZenChef</td>\n",
       "      <td>Local Businesses</td>\n",
       "      <td>operating</td>\n",
       "      <td>FRA</td>\n",
       "    </tr>\n",
       "    <tr>\n",
       "      <th>49</th>\n",
       "      <td>/organization/1001-menus</td>\n",
       "      <td>/funding-round/b6c28ea4ebe32db7083052cf87e7c368</td>\n",
       "      <td>venture</td>\n",
       "      <td>25-10-2013</td>\n",
       "      <td>1.800000</td>\n",
       "      <td>/organization/1001-menus</td>\n",
       "      <td>ZenChef</td>\n",
       "      <td>Local Businesses</td>\n",
       "      <td>operating</td>\n",
       "      <td>FRA</td>\n",
       "    </tr>\n",
       "    <tr>\n",
       "      <th>50</th>\n",
       "      <td>/organization/1001pharmacies-com</td>\n",
       "      <td>/funding-round/a21fc4d20200f43e3a25fd9cfc7c1482</td>\n",
       "      <td>venture</td>\n",
       "      <td>09-07-2015</td>\n",
       "      <td>8.900000</td>\n",
       "      <td>/organization/1001pharmacies-com</td>\n",
       "      <td>1001pharmacies.com</td>\n",
       "      <td>Cosmetics</td>\n",
       "      <td>operating</td>\n",
       "      <td>FRA</td>\n",
       "    </tr>\n",
       "    <tr>\n",
       "      <th>52</th>\n",
       "      <td>/organization/1006-tv</td>\n",
       "      <td>/funding-round/b6aeb7401ec6993f92a16cbca153b600</td>\n",
       "      <td>venture</td>\n",
       "      <td>31-07-2014</td>\n",
       "      <td>10.000000</td>\n",
       "      <td>/organization/1006-tv</td>\n",
       "      <td>1006.tv</td>\n",
       "      <td>Games</td>\n",
       "      <td>operating</td>\n",
       "      <td>CHN</td>\n",
       "    </tr>\n",
       "    <tr>\n",
       "      <th>55</th>\n",
       "      <td>/organization/100du-tv</td>\n",
       "      <td>/funding-round/8797d60368bb0227f0d0ab4c72aef886</td>\n",
       "      <td>venture</td>\n",
       "      <td>07-01-2008</td>\n",
       "      <td>3.000000</td>\n",
       "      <td>/organization/100du-tv</td>\n",
       "      <td>100du.tv</td>\n",
       "      <td>Hospitality</td>\n",
       "      <td>operating</td>\n",
       "      <td>CHN</td>\n",
       "    </tr>\n",
       "    <tr>\n",
       "      <th>56</th>\n",
       "      <td>/organization/100e-com</td>\n",
       "      <td>/funding-round/22a86670d1055d7bafce665b27e91871</td>\n",
       "      <td>venture</td>\n",
       "      <td>01-01-2006</td>\n",
       "      <td>3.000000</td>\n",
       "      <td>/organization/100e-com</td>\n",
       "      <td>100e.com</td>\n",
       "      <td>Education</td>\n",
       "      <td>operating</td>\n",
       "      <td>CHN</td>\n",
       "    </tr>\n",
       "  </tbody>\n",
       "</table>\n",
       "</div>"
      ],
      "text/plain": [
       "                      company_permalink  \\\n",
       "0                   /organization/-fame   \n",
       "4                 /organization/0-6-com   \n",
       "8   /organization/0ndine-biomedical-inc   \n",
       "10                 /organization/0xdata   \n",
       "11                 /organization/0xdata   \n",
       "12                 /organization/0xdata   \n",
       "22           /organization/1-mainstream   \n",
       "28        /organization/10-minutes-with   \n",
       "34           /organization/1000memories   \n",
       "38        /organization/1000museums-com   \n",
       "39        /organization/1000museums-com   \n",
       "41        /organization/1000museums-com   \n",
       "44        /organization/1000museums-com   \n",
       "46             /organization/1001-menus   \n",
       "47             /organization/1001-menus   \n",
       "49             /organization/1001-menus   \n",
       "50     /organization/1001pharmacies-com   \n",
       "52                /organization/1006-tv   \n",
       "55               /organization/100du-tv   \n",
       "56               /organization/100e-com   \n",
       "\n",
       "                            funding_round_permalink funding_round_type  \\\n",
       "0   /funding-round/9a01d05418af9f794eebff7ace91f638            venture   \n",
       "4   /funding-round/5727accaeaa57461bd22a9bdd945382d            venture   \n",
       "8   /funding-round/954b9499724b946ad8c396a57a5f3b72            venture   \n",
       "10  /funding-round/3bb2ee4a2d89251a10aaa735b1180e44            venture   \n",
       "11  /funding-round/ae2a174c06517c2394aed45006322a7e            venture   \n",
       "12  /funding-round/e1cfcbe1bdf4c70277c5f29a3482f24e            venture   \n",
       "22  /funding-round/b952cbaf401f310927430c97b68162ea            venture   \n",
       "28  /funding-round/0faccbbcc5818dc5326469f13f5a8ac8            venture   \n",
       "34  /funding-round/502bd0e50c27616995e4bdad24605ef8            venture   \n",
       "38  /funding-round/13be128d655076a025221d7fddc90d68            venture   \n",
       "39  /funding-round/6aeb32ab3fc05db2b606d7a2466e8c09            venture   \n",
       "41  /funding-round/89317984885b44f02e4befb9dc2e588c            venture   \n",
       "44  /funding-round/fd1b3064232ba9b3cfb5653a619e82e8            venture   \n",
       "46  /funding-round/645b4cd895450b8e0268027cd7813047            venture   \n",
       "47  /funding-round/8025123b90c1ab687f9857ffe18bfd3b            venture   \n",
       "49  /funding-round/b6c28ea4ebe32db7083052cf87e7c368            venture   \n",
       "50  /funding-round/a21fc4d20200f43e3a25fd9cfc7c1482            venture   \n",
       "52  /funding-round/b6aeb7401ec6993f92a16cbca153b600            venture   \n",
       "55  /funding-round/8797d60368bb0227f0d0ab4c72aef886            venture   \n",
       "56  /funding-round/22a86670d1055d7bafce665b27e91871            venture   \n",
       "\n",
       "     funded_at  raised_amount_usd                            permalink  \\\n",
       "0   05-01-2015          10.000000                  /organization/-fame   \n",
       "4   19-03-2008           2.000000                /organization/0-6-com   \n",
       "8   21-12-2009           0.719491  /organization/0ndine-biomedical-inc   \n",
       "10  09-11-2015          20.000000                 /organization/0xdata   \n",
       "11  03-01-2013           1.700000                 /organization/0xdata   \n",
       "12  19-07-2014           8.900000                 /organization/0xdata   \n",
       "22  17-03-2015           5.000000           /organization/1-mainstream   \n",
       "28  09-10-2014           4.000000        /organization/10-minutes-with   \n",
       "34  16-02-2011           2.520000           /organization/1000memories   \n",
       "38  14-10-2009           0.265940        /organization/1000museums-com   \n",
       "39  15-01-2014           2.906832        /organization/1000museums-com   \n",
       "41  01-08-2014           1.500000        /organization/1000museums-com   \n",
       "44  05-04-2011           0.642000        /organization/1000museums-com   \n",
       "46  04-11-2015           6.602694             /organization/1001-menus   \n",
       "47  13-11-2013           1.736910             /organization/1001-menus   \n",
       "49  25-10-2013           1.800000             /organization/1001-menus   \n",
       "50  09-07-2015           8.900000     /organization/1001pharmacies-com   \n",
       "52  31-07-2014          10.000000                /organization/1006-tv   \n",
       "55  07-01-2008           3.000000               /organization/100du-tv   \n",
       "56  01-01-2006           3.000000               /organization/100e-com   \n",
       "\n",
       "                      name     category_list     status country_code  \n",
       "0                    #fame             Media  operating          IND  \n",
       "4                  0-6.com       Curated Web  operating          CHN  \n",
       "8   Ondine Biomedical Inc.     Biotechnology  operating          CAN  \n",
       "10                  H2O.ai         Analytics  operating          USA  \n",
       "11                  H2O.ai         Analytics  operating          USA  \n",
       "12                  H2O.ai         Analytics  operating          USA  \n",
       "22            1 Mainstream              Apps   acquired          USA  \n",
       "28         10 Minutes With         Education  operating          GBR  \n",
       "34            1000memories       Curated Web   acquired          USA  \n",
       "38         1000museums.com       Curated Web  operating          USA  \n",
       "39         1000museums.com       Curated Web  operating          USA  \n",
       "41         1000museums.com       Curated Web  operating          USA  \n",
       "44         1000museums.com       Curated Web  operating          USA  \n",
       "46                 ZenChef  Local Businesses  operating          FRA  \n",
       "47                 ZenChef  Local Businesses  operating          FRA  \n",
       "49                 ZenChef  Local Businesses  operating          FRA  \n",
       "50      1001pharmacies.com         Cosmetics  operating          FRA  \n",
       "52                 1006.tv             Games  operating          CHN  \n",
       "55                100du.tv       Hospitality  operating          CHN  \n",
       "56                100e.com         Education  operating          CHN  "
      ]
     },
     "execution_count": 26,
     "metadata": {},
     "output_type": "execute_result"
    }
   ],
   "source": [
    "top9['category_list'] = top9['category_list'].apply(lambda x: x.split('|')[0])\n",
    "top9.head(20)"
   ]
  },
  {
   "cell_type": "markdown",
   "metadata": {},
   "source": [
    "#### read mapping table and categorize into main sector"
   ]
  },
  {
   "cell_type": "code",
   "execution_count": 27,
   "metadata": {},
   "outputs": [
    {
     "name": "stdout",
     "output_type": "stream",
     "text": [
      "<class 'pandas.core.frame.DataFrame'>\n",
      "RangeIndex: 688 entries, 0 to 687\n",
      "Data columns (total 10 columns):\n",
      " #   Column                                   Non-Null Count  Dtype \n",
      "---  ------                                   --------------  ----- \n",
      " 0   category_list                            687 non-null    object\n",
      " 1   Automotive & Sports                      688 non-null    int64 \n",
      " 2   Blanks                                   688 non-null    int64 \n",
      " 3   Cleantech / Semiconductors               688 non-null    int64 \n",
      " 4   Entertainment                            688 non-null    int64 \n",
      " 5   Health                                   688 non-null    int64 \n",
      " 6   Manufacturing                            688 non-null    int64 \n",
      " 7   News, Search and Messaging               688 non-null    int64 \n",
      " 8   Others                                   688 non-null    int64 \n",
      " 9   Social, Finance, Analytics, Advertising  688 non-null    int64 \n",
      "dtypes: int64(9), object(1)\n",
      "memory usage: 53.9+ KB\n"
     ]
    }
   ],
   "source": [
    "mapping = pd.read_csv(\"mapping.csv\")\n",
    "mapping.info()"
   ]
  },
  {
   "cell_type": "code",
   "execution_count": 28,
   "metadata": {},
   "outputs": [],
   "source": [
    "# data analysis shows that across category_list 'na' has been replaced by 0 & 2.0 has been replaced by 2.na \n",
    "# This needs to be fixed before mapping\n",
    "mapping['category_list'] = mapping['category_list'].replace({'0':'na'}, regex=True)\n",
    "\n",
    "# above replace function will replace 2.0 as 2.na\n",
    "mapping['category_list'] = mapping['category_list'].replace({'2.na':'2.0'}, regex=True)\n",
    "\n",
    "# remove case sensitivity from column category_list\n",
    "mapping['category_list'] = mapping['category_list'].str.lower()"
   ]
  },
  {
   "cell_type": "code",
   "execution_count": 29,
   "metadata": {},
   "outputs": [
    {
     "data": {
      "text/plain": [
       "Others                                     195\n",
       "Social, Finance, Analytics, Advertising    153\n",
       "Entertainment                               89\n",
       "News, Search and Messaging                  72\n",
       "Health                                      63\n",
       "Cleantech / Semiconductors                  53\n",
       "Manufacturing                               40\n",
       "Automotive & Sports                         22\n",
       "Blanks                                       1\n",
       "Name: main_sector, dtype: int64"
      ]
     },
     "execution_count": 29,
     "metadata": {},
     "output_type": "execute_result"
    }
   ],
   "source": [
    "main_sector=pd.melt(mapping, id_vars=['category_list'], var_name=['main_sector'])\n",
    "main_sector=main_sector[main_sector.value==1]\n",
    "main_sector['main_sector'].value_counts()"
   ]
  },
  {
   "cell_type": "code",
   "execution_count": 30,
   "metadata": {},
   "outputs": [
    {
     "data": {
      "text/plain": [
       "(688, 3)"
      ]
     },
     "execution_count": 30,
     "metadata": {},
     "output_type": "execute_result"
    }
   ],
   "source": [
    "# blank category list does not add any value so this record can be deleted\n",
    "#main_sector = m[m.main_sector != 'Blanks']\n",
    "main_sector.shape"
   ]
  },
  {
   "cell_type": "code",
   "execution_count": 31,
   "metadata": {},
   "outputs": [],
   "source": [
    "# to remove case sensitivity from joining columns convert to lower case\n",
    "top9['category_list'] = top9['category_list'].str.lower()"
   ]
  },
  {
   "cell_type": "code",
   "execution_count": 32,
   "metadata": {},
   "outputs": [
    {
     "name": "stdout",
     "output_type": "stream",
     "text": [
      "<class 'pandas.core.frame.DataFrame'>\n",
      "Int64Index: 44118 entries, 0 to 44117\n",
      "Data columns (total 12 columns):\n",
      " #   Column                   Non-Null Count  Dtype  \n",
      "---  ------                   --------------  -----  \n",
      " 0   company_permalink        44118 non-null  object \n",
      " 1   funding_round_permalink  44118 non-null  object \n",
      " 2   funding_round_type       44118 non-null  object \n",
      " 3   funded_at                44118 non-null  object \n",
      " 4   raised_amount_usd        44118 non-null  float64\n",
      " 5   permalink                44118 non-null  object \n",
      " 6   name                     44118 non-null  object \n",
      " 7   category_list            44118 non-null  object \n",
      " 8   status                   44118 non-null  object \n",
      " 9   country_code             44118 non-null  object \n",
      " 10  main_sector              44107 non-null  object \n",
      " 11  value                    44107 non-null  float64\n",
      "dtypes: float64(2), object(10)\n",
      "memory usage: 4.4+ MB\n"
     ]
    }
   ],
   "source": [
    "top9 = pd.merge(top9, main_sector, \n",
    "                  left_on='category_list',\n",
    "                  right_on='category_list',\n",
    "                  how='left')\n",
    "top9.info()"
   ]
  },
  {
   "cell_type": "code",
   "execution_count": 33,
   "metadata": {},
   "outputs": [
    {
     "data": {
      "text/html": [
       "<div>\n",
       "<style scoped>\n",
       "    .dataframe tbody tr th:only-of-type {\n",
       "        vertical-align: middle;\n",
       "    }\n",
       "\n",
       "    .dataframe tbody tr th {\n",
       "        vertical-align: top;\n",
       "    }\n",
       "\n",
       "    .dataframe thead th {\n",
       "        text-align: right;\n",
       "    }\n",
       "</style>\n",
       "<table border=\"1\" class=\"dataframe\">\n",
       "  <thead>\n",
       "    <tr style=\"text-align: right;\">\n",
       "      <th></th>\n",
       "      <th>company_permalink</th>\n",
       "      <th>funding_round_permalink</th>\n",
       "      <th>funding_round_type</th>\n",
       "      <th>funded_at</th>\n",
       "      <th>raised_amount_usd</th>\n",
       "      <th>permalink</th>\n",
       "      <th>name</th>\n",
       "      <th>category_list</th>\n",
       "      <th>status</th>\n",
       "      <th>country_code</th>\n",
       "      <th>main_sector</th>\n",
       "      <th>value</th>\n",
       "    </tr>\n",
       "  </thead>\n",
       "  <tbody>\n",
       "    <tr>\n",
       "      <th>8353</th>\n",
       "      <td>/organization/clean-vehicle-solutions</td>\n",
       "      <td>/funding-round/7b991c526219c2edff8789942215d93b</td>\n",
       "      <td>venture</td>\n",
       "      <td>26-02-2010</td>\n",
       "      <td>0.125000</td>\n",
       "      <td>/organization/clean-vehicle-solutions</td>\n",
       "      <td>Clean Vehicle Solutions</td>\n",
       "      <td>natural gas uses</td>\n",
       "      <td>operating</td>\n",
       "      <td>USA</td>\n",
       "      <td>NaN</td>\n",
       "      <td>NaN</td>\n",
       "    </tr>\n",
       "    <tr>\n",
       "      <th>11536</th>\n",
       "      <td>/organization/dolores-speech-products</td>\n",
       "      <td>/funding-round/ba7393d89b2a5ad0c076e2295794c4ce</td>\n",
       "      <td>venture</td>\n",
       "      <td>07-04-2015</td>\n",
       "      <td>0.250000</td>\n",
       "      <td>/organization/dolores-speech-products</td>\n",
       "      <td>Dolores Speech Products</td>\n",
       "      <td>adaptive equipment</td>\n",
       "      <td>operating</td>\n",
       "      <td>USA</td>\n",
       "      <td>NaN</td>\n",
       "      <td>NaN</td>\n",
       "    </tr>\n",
       "    <tr>\n",
       "      <th>14069</th>\n",
       "      <td>/organization/fia-formula-e</td>\n",
       "      <td>/funding-round/19a09624fcf806a4a64809462a4e391c</td>\n",
       "      <td>venture</td>\n",
       "      <td>15-05-2014</td>\n",
       "      <td>68.569234</td>\n",
       "      <td>/organization/fia-formula-e</td>\n",
       "      <td>FIA Formula E</td>\n",
       "      <td>racing</td>\n",
       "      <td>closed</td>\n",
       "      <td>GBR</td>\n",
       "      <td>NaN</td>\n",
       "      <td>NaN</td>\n",
       "    </tr>\n",
       "    <tr>\n",
       "      <th>14348</th>\n",
       "      <td>/organization/five-below</td>\n",
       "      <td>/funding-round/2a50c59492585ea4080fa67de755a442</td>\n",
       "      <td>venture</td>\n",
       "      <td>14-10-2010</td>\n",
       "      <td>194.000000</td>\n",
       "      <td>/organization/five-below</td>\n",
       "      <td>Five Below</td>\n",
       "      <td>specialty retail</td>\n",
       "      <td>ipo</td>\n",
       "      <td>USA</td>\n",
       "      <td>NaN</td>\n",
       "      <td>NaN</td>\n",
       "    </tr>\n",
       "    <tr>\n",
       "      <th>16996</th>\n",
       "      <td>/organization/healthtell</td>\n",
       "      <td>/funding-round/8edf7332fface9972541807a248690b3</td>\n",
       "      <td>venture</td>\n",
       "      <td>13-06-2014</td>\n",
       "      <td>9.486929</td>\n",
       "      <td>/organization/healthtell</td>\n",
       "      <td>HealthTell</td>\n",
       "      <td>biotechnology and semiconductor</td>\n",
       "      <td>operating</td>\n",
       "      <td>USA</td>\n",
       "      <td>NaN</td>\n",
       "      <td>NaN</td>\n",
       "    </tr>\n",
       "    <tr>\n",
       "      <th>20305</th>\n",
       "      <td>/organization/justinmind</td>\n",
       "      <td>/funding-round/c6e9adcef86247dccf8418dc3e4b9a0b</td>\n",
       "      <td>venture</td>\n",
       "      <td>17-12-2007</td>\n",
       "      <td>0.862000</td>\n",
       "      <td>/organization/justinmind</td>\n",
       "      <td>Justinmind</td>\n",
       "      <td>rapidly expanding</td>\n",
       "      <td>operating</td>\n",
       "      <td>USA</td>\n",
       "      <td>NaN</td>\n",
       "      <td>NaN</td>\n",
       "    </tr>\n",
       "    <tr>\n",
       "      <th>27190</th>\n",
       "      <td>/organization/omega-point-research</td>\n",
       "      <td>/funding-round/4870743e3fded9317f5611eb2e848667</td>\n",
       "      <td>venture</td>\n",
       "      <td>14-05-2015</td>\n",
       "      <td>3.172815</td>\n",
       "      <td>/organization/omega-point-research</td>\n",
       "      <td>Omega Point Research</td>\n",
       "      <td>product search</td>\n",
       "      <td>closed</td>\n",
       "      <td>USA</td>\n",
       "      <td>NaN</td>\n",
       "      <td>NaN</td>\n",
       "    </tr>\n",
       "    <tr>\n",
       "      <th>33956</th>\n",
       "      <td>/organization/sense-labs-inc-</td>\n",
       "      <td>/funding-round/1ed09dae5b9feaba2ae7f56dd1b9bfd2</td>\n",
       "      <td>venture</td>\n",
       "      <td>29-12-2014</td>\n",
       "      <td>2.499999</td>\n",
       "      <td>/organization/sense-labs-inc-</td>\n",
       "      <td>Sense</td>\n",
       "      <td>greentech</td>\n",
       "      <td>operating</td>\n",
       "      <td>USA</td>\n",
       "      <td>NaN</td>\n",
       "      <td>NaN</td>\n",
       "    </tr>\n",
       "    <tr>\n",
       "      <th>34256</th>\n",
       "      <td>/organization/shantiniketan-incorporated</td>\n",
       "      <td>/funding-round/96f7fa1fdcc380649723c8effc2a1062</td>\n",
       "      <td>venture</td>\n",
       "      <td>01-08-2008</td>\n",
       "      <td>1.100000</td>\n",
       "      <td>/organization/shantiniketan-incorporated</td>\n",
       "      <td>ShantiNiketan Inc.</td>\n",
       "      <td>retirement</td>\n",
       "      <td>closed</td>\n",
       "      <td>USA</td>\n",
       "      <td>NaN</td>\n",
       "      <td>NaN</td>\n",
       "    </tr>\n",
       "    <tr>\n",
       "      <th>34257</th>\n",
       "      <td>/organization/shantiniketan-incorporated</td>\n",
       "      <td>/funding-round/c6baca436fa80360921d89a06a0a0e93</td>\n",
       "      <td>venture</td>\n",
       "      <td>01-05-2011</td>\n",
       "      <td>2.000000</td>\n",
       "      <td>/organization/shantiniketan-incorporated</td>\n",
       "      <td>ShantiNiketan Inc.</td>\n",
       "      <td>retirement</td>\n",
       "      <td>closed</td>\n",
       "      <td>USA</td>\n",
       "      <td>NaN</td>\n",
       "      <td>NaN</td>\n",
       "    </tr>\n",
       "    <tr>\n",
       "      <th>40716</th>\n",
       "      <td>/organization/velocomp</td>\n",
       "      <td>/funding-round/2cdceb89206aad240a78e58329cec171</td>\n",
       "      <td>venture</td>\n",
       "      <td>09-09-2011</td>\n",
       "      <td>1.420000</td>\n",
       "      <td>/organization/velocomp</td>\n",
       "      <td>Velocomp</td>\n",
       "      <td>adaptive equipment</td>\n",
       "      <td>operating</td>\n",
       "      <td>USA</td>\n",
       "      <td>NaN</td>\n",
       "      <td>NaN</td>\n",
       "    </tr>\n",
       "  </tbody>\n",
       "</table>\n",
       "</div>"
      ],
      "text/plain": [
       "                              company_permalink  \\\n",
       "8353      /organization/clean-vehicle-solutions   \n",
       "11536     /organization/dolores-speech-products   \n",
       "14069               /organization/fia-formula-e   \n",
       "14348                  /organization/five-below   \n",
       "16996                  /organization/healthtell   \n",
       "20305                  /organization/justinmind   \n",
       "27190        /organization/omega-point-research   \n",
       "33956             /organization/sense-labs-inc-   \n",
       "34256  /organization/shantiniketan-incorporated   \n",
       "34257  /organization/shantiniketan-incorporated   \n",
       "40716                    /organization/velocomp   \n",
       "\n",
       "                               funding_round_permalink funding_round_type  \\\n",
       "8353   /funding-round/7b991c526219c2edff8789942215d93b            venture   \n",
       "11536  /funding-round/ba7393d89b2a5ad0c076e2295794c4ce            venture   \n",
       "14069  /funding-round/19a09624fcf806a4a64809462a4e391c            venture   \n",
       "14348  /funding-round/2a50c59492585ea4080fa67de755a442            venture   \n",
       "16996  /funding-round/8edf7332fface9972541807a248690b3            venture   \n",
       "20305  /funding-round/c6e9adcef86247dccf8418dc3e4b9a0b            venture   \n",
       "27190  /funding-round/4870743e3fded9317f5611eb2e848667            venture   \n",
       "33956  /funding-round/1ed09dae5b9feaba2ae7f56dd1b9bfd2            venture   \n",
       "34256  /funding-round/96f7fa1fdcc380649723c8effc2a1062            venture   \n",
       "34257  /funding-round/c6baca436fa80360921d89a06a0a0e93            venture   \n",
       "40716  /funding-round/2cdceb89206aad240a78e58329cec171            venture   \n",
       "\n",
       "        funded_at  raised_amount_usd  \\\n",
       "8353   26-02-2010           0.125000   \n",
       "11536  07-04-2015           0.250000   \n",
       "14069  15-05-2014          68.569234   \n",
       "14348  14-10-2010         194.000000   \n",
       "16996  13-06-2014           9.486929   \n",
       "20305  17-12-2007           0.862000   \n",
       "27190  14-05-2015           3.172815   \n",
       "33956  29-12-2014           2.499999   \n",
       "34256  01-08-2008           1.100000   \n",
       "34257  01-05-2011           2.000000   \n",
       "40716  09-09-2011           1.420000   \n",
       "\n",
       "                                      permalink                     name  \\\n",
       "8353      /organization/clean-vehicle-solutions  Clean Vehicle Solutions   \n",
       "11536     /organization/dolores-speech-products  Dolores Speech Products   \n",
       "14069               /organization/fia-formula-e            FIA Formula E   \n",
       "14348                  /organization/five-below               Five Below   \n",
       "16996                  /organization/healthtell               HealthTell   \n",
       "20305                  /organization/justinmind               Justinmind   \n",
       "27190        /organization/omega-point-research     Omega Point Research   \n",
       "33956             /organization/sense-labs-inc-                    Sense   \n",
       "34256  /organization/shantiniketan-incorporated       ShantiNiketan Inc.   \n",
       "34257  /organization/shantiniketan-incorporated       ShantiNiketan Inc.   \n",
       "40716                    /organization/velocomp                 Velocomp   \n",
       "\n",
       "                         category_list     status country_code main_sector  \\\n",
       "8353                  natural gas uses  operating          USA         NaN   \n",
       "11536               adaptive equipment  operating          USA         NaN   \n",
       "14069                           racing     closed          GBR         NaN   \n",
       "14348                 specialty retail        ipo          USA         NaN   \n",
       "16996  biotechnology and semiconductor  operating          USA         NaN   \n",
       "20305                rapidly expanding  operating          USA         NaN   \n",
       "27190                   product search     closed          USA         NaN   \n",
       "33956                        greentech  operating          USA         NaN   \n",
       "34256                       retirement     closed          USA         NaN   \n",
       "34257                       retirement     closed          USA         NaN   \n",
       "40716               adaptive equipment  operating          USA         NaN   \n",
       "\n",
       "       value  \n",
       "8353     NaN  \n",
       "11536    NaN  \n",
       "14069    NaN  \n",
       "14348    NaN  \n",
       "16996    NaN  \n",
       "20305    NaN  \n",
       "27190    NaN  \n",
       "33956    NaN  \n",
       "34256    NaN  \n",
       "34257    NaN  \n",
       "40716    NaN  "
      ]
     },
     "execution_count": 33,
     "metadata": {},
     "output_type": "execute_result"
    }
   ],
   "source": [
    "# identify records where main sector is still valid\n",
    "top9[top9['main_sector'].isnull()]"
   ]
  },
  {
   "cell_type": "code",
   "execution_count": 34,
   "metadata": {},
   "outputs": [
    {
     "data": {
      "text/plain": [
       "(44107, 12)"
      ]
     },
     "execution_count": 34,
     "metadata": {},
     "output_type": "execute_result"
    }
   ],
   "source": [
    "# since there is no valid sector mapping, such records can be removed\n",
    "top9 = top9[~top9['main_sector'].isnull()]\n",
    "top9.shape"
   ]
  },
  {
   "cell_type": "markdown",
   "metadata": {},
   "source": [
    "## Checkpoint 5: Sector Analysis 2"
   ]
  },
  {
   "cell_type": "markdown",
   "metadata": {},
   "source": [
    "#### three separate data frames D1, D2 and D3 for each of the three countries containing the observations of funding type FT falling within the 5-15 million USD"
   ]
  },
  {
   "cell_type": "code",
   "execution_count": 35,
   "metadata": {},
   "outputs": [],
   "source": [
    "D1 = top9[(top9['country_code'] == 'USA') & (top9['raised_amount_usd'] >= 5) & (top9['raised_amount_usd']<= 15)]\n",
    "D2 = top9[(top9['country_code'] == 'GBR') & (top9['raised_amount_usd'] >= 5) & (top9['raised_amount_usd']<= 15)]\n",
    "D3 = top9[(top9['country_code'] == 'IND') & (top9['raised_amount_usd'] >= 5) & (top9['raised_amount_usd']<= 15)]"
   ]
  },
  {
   "cell_type": "code",
   "execution_count": 36,
   "metadata": {},
   "outputs": [
    {
     "name": "stdout",
     "output_type": "stream",
     "text": [
      "USA:  107757.1 -> 12063\n",
      "GBR:  5379.08 -> 621\n",
      "IND:  2949.54 -> 328\n"
     ]
    }
   ],
   "source": [
    "#Total amount of investment (USD), Total number of investment\n",
    "print(\"USA: \", round(D1.raised_amount_usd.sum(), 2), \"->\", round(D1.raised_amount_usd.count(), 2))\n",
    "print(\"GBR: \", round(D2.raised_amount_usd.sum(), 2), \"->\", round(D2.raised_amount_usd.count(), 2))\n",
    "print(\"IND: \",round(D3.raised_amount_usd.sum(), 2), \"->\", round(D3.raised_amount_usd.count(), 2))"
   ]
  },
  {
   "cell_type": "code",
   "execution_count": 37,
   "metadata": {},
   "outputs": [
    {
     "data": {
      "text/html": [
       "<div>\n",
       "<style scoped>\n",
       "    .dataframe tbody tr th:only-of-type {\n",
       "        vertical-align: middle;\n",
       "    }\n",
       "\n",
       "    .dataframe tbody tr th {\n",
       "        vertical-align: top;\n",
       "    }\n",
       "\n",
       "    .dataframe thead tr th {\n",
       "        text-align: left;\n",
       "    }\n",
       "\n",
       "    .dataframe thead tr:last-of-type th {\n",
       "        text-align: right;\n",
       "    }\n",
       "</style>\n",
       "<table border=\"1\" class=\"dataframe\">\n",
       "  <thead>\n",
       "    <tr>\n",
       "      <th></th>\n",
       "      <th colspan=\"2\" halign=\"left\">raised_amount_usd</th>\n",
       "    </tr>\n",
       "    <tr>\n",
       "      <th></th>\n",
       "      <th>Total_amount</th>\n",
       "      <th>Total_count</th>\n",
       "    </tr>\n",
       "    <tr>\n",
       "      <th>main_sector</th>\n",
       "      <th></th>\n",
       "      <th></th>\n",
       "    </tr>\n",
       "  </thead>\n",
       "  <tbody>\n",
       "    <tr>\n",
       "      <th>Others</th>\n",
       "      <td>26321.007002</td>\n",
       "      <td>2950</td>\n",
       "    </tr>\n",
       "    <tr>\n",
       "      <th>Social, Finance, Analytics, Advertising</th>\n",
       "      <td>23807.376964</td>\n",
       "      <td>2714</td>\n",
       "    </tr>\n",
       "    <tr>\n",
       "      <th>Cleantech / Semiconductors</th>\n",
       "      <td>21633.430822</td>\n",
       "      <td>2350</td>\n",
       "    </tr>\n",
       "    <tr>\n",
       "      <th>News, Search and Messaging</th>\n",
       "      <td>13971.567428</td>\n",
       "      <td>1583</td>\n",
       "    </tr>\n",
       "    <tr>\n",
       "      <th>Health</th>\n",
       "      <td>8211.859357</td>\n",
       "      <td>909</td>\n",
       "    </tr>\n",
       "    <tr>\n",
       "      <th>Manufacturing</th>\n",
       "      <td>7258.553378</td>\n",
       "      <td>799</td>\n",
       "    </tr>\n",
       "    <tr>\n",
       "      <th>Entertainment</th>\n",
       "      <td>5099.197982</td>\n",
       "      <td>591</td>\n",
       "    </tr>\n",
       "    <tr>\n",
       "      <th>Automotive &amp; Sports</th>\n",
       "      <td>1454.104361</td>\n",
       "      <td>167</td>\n",
       "    </tr>\n",
       "  </tbody>\n",
       "</table>\n",
       "</div>"
      ],
      "text/plain": [
       "                                        raised_amount_usd            \n",
       "                                             Total_amount Total_count\n",
       "main_sector                                                          \n",
       "Others                                       26321.007002        2950\n",
       "Social, Finance, Analytics, Advertising      23807.376964        2714\n",
       "Cleantech / Semiconductors                   21633.430822        2350\n",
       "News, Search and Messaging                   13971.567428        1583\n",
       "Health                                        8211.859357         909\n",
       "Manufacturing                                 7258.553378         799\n",
       "Entertainment                                 5099.197982         591\n",
       "Automotive & Sports                           1454.104361         167"
      ]
     },
     "execution_count": 37,
     "metadata": {},
     "output_type": "execute_result"
    }
   ],
   "source": [
    "# sector wise count\n",
    "D1_sector = D1[['raised_amount_usd','main_sector']].groupby('main_sector').agg(['sum', 'count']).rename(columns={'sum':'Total_amount','count' : 'Total_count'})\n",
    "D1_sector.sort_values(('raised_amount_usd', 'Total_count'), ascending = False)"
   ]
  },
  {
   "cell_type": "code",
   "execution_count": 38,
   "metadata": {},
   "outputs": [
    {
     "data": {
      "image/png": "[encoded data removed]",
      "text/plain": [
       "<Figure size 432x288 with 1 Axes>"
      ]
     },
     "metadata": {
      "needs_background": "light"
     },
     "output_type": "display_data"
    }
   ],
   "source": [
    "D1_sector.raised_amount_usd.plot(kind='bar', ylabel = 'Raised amount USD in millions', title = 'Main sector for US')\n",
    "plt.show()"
   ]
  },
  {
   "cell_type": "code",
   "execution_count": 39,
   "metadata": {},
   "outputs": [
    {
     "data": {
      "text/html": [
       "<div>\n",
       "<style scoped>\n",
       "    .dataframe tbody tr th:only-of-type {\n",
       "        vertical-align: middle;\n",
       "    }\n",
       "\n",
       "    .dataframe tbody tr th {\n",
       "        vertical-align: top;\n",
       "    }\n",
       "\n",
       "    .dataframe thead tr th {\n",
       "        text-align: left;\n",
       "    }\n",
       "\n",
       "    .dataframe thead tr:last-of-type th {\n",
       "        text-align: right;\n",
       "    }\n",
       "</style>\n",
       "<table border=\"1\" class=\"dataframe\">\n",
       "  <thead>\n",
       "    <tr>\n",
       "      <th></th>\n",
       "      <th colspan=\"2\" halign=\"left\">raised_amount_usd</th>\n",
       "    </tr>\n",
       "    <tr>\n",
       "      <th></th>\n",
       "      <th>Total_amount</th>\n",
       "      <th>Total_count</th>\n",
       "    </tr>\n",
       "    <tr>\n",
       "      <th>main_sector</th>\n",
       "      <th></th>\n",
       "      <th></th>\n",
       "    </tr>\n",
       "  </thead>\n",
       "  <tbody>\n",
       "    <tr>\n",
       "      <th>Others</th>\n",
       "      <td>1283.624289</td>\n",
       "      <td>147</td>\n",
       "    </tr>\n",
       "    <tr>\n",
       "      <th>Social, Finance, Analytics, Advertising</th>\n",
       "      <td>1089.404014</td>\n",
       "      <td>133</td>\n",
       "    </tr>\n",
       "    <tr>\n",
       "      <th>Cleantech / Semiconductors</th>\n",
       "      <td>1163.990056</td>\n",
       "      <td>130</td>\n",
       "    </tr>\n",
       "    <tr>\n",
       "      <th>News, Search and Messaging</th>\n",
       "      <td>615.746235</td>\n",
       "      <td>73</td>\n",
       "    </tr>\n",
       "    <tr>\n",
       "      <th>Entertainment</th>\n",
       "      <td>482.784687</td>\n",
       "      <td>56</td>\n",
       "    </tr>\n",
       "    <tr>\n",
       "      <th>Manufacturing</th>\n",
       "      <td>361.940335</td>\n",
       "      <td>42</td>\n",
       "    </tr>\n",
       "    <tr>\n",
       "      <th>Health</th>\n",
       "      <td>214.537510</td>\n",
       "      <td>24</td>\n",
       "    </tr>\n",
       "    <tr>\n",
       "      <th>Automotive &amp; Sports</th>\n",
       "      <td>167.051565</td>\n",
       "      <td>16</td>\n",
       "    </tr>\n",
       "  </tbody>\n",
       "</table>\n",
       "</div>"
      ],
      "text/plain": [
       "                                        raised_amount_usd            \n",
       "                                             Total_amount Total_count\n",
       "main_sector                                                          \n",
       "Others                                        1283.624289         147\n",
       "Social, Finance, Analytics, Advertising       1089.404014         133\n",
       "Cleantech / Semiconductors                    1163.990056         130\n",
       "News, Search and Messaging                     615.746235          73\n",
       "Entertainment                                  482.784687          56\n",
       "Manufacturing                                  361.940335          42\n",
       "Health                                         214.537510          24\n",
       "Automotive & Sports                            167.051565          16"
      ]
     },
     "execution_count": 39,
     "metadata": {},
     "output_type": "execute_result"
    }
   ],
   "source": [
    "D2_sector = D2[['raised_amount_usd','main_sector']].groupby('main_sector').agg(['sum', 'count']).rename(columns={'sum':'Total_amount','count' : 'Total_count'})\n",
    "D2_sector.sort_values(('raised_amount_usd', 'Total_count'), ascending = False)"
   ]
  },
  {
   "cell_type": "code",
   "execution_count": 40,
   "metadata": {},
   "outputs": [
    {
     "data": {
      "image/png": "[encoded data removed]",
      "text/plain": [
       "<Figure size 432x288 with 1 Axes>"
      ]
     },
     "metadata": {
      "needs_background": "light"
     },
     "output_type": "display_data"
    }
   ],
   "source": [
    "D2_sector.raised_amount_usd.plot(kind='bar', ylabel = 'Raised amount USD in millions', title = 'Main sector for Great Britain')\n",
    "plt.show()"
   ]
  },
  {
   "cell_type": "code",
   "execution_count": 41,
   "metadata": {},
   "outputs": [
    {
     "data": {
      "text/html": [
       "<div>\n",
       "<style scoped>\n",
       "    .dataframe tbody tr th:only-of-type {\n",
       "        vertical-align: middle;\n",
       "    }\n",
       "\n",
       "    .dataframe tbody tr th {\n",
       "        vertical-align: top;\n",
       "    }\n",
       "\n",
       "    .dataframe thead tr th {\n",
       "        text-align: left;\n",
       "    }\n",
       "\n",
       "    .dataframe thead tr:last-of-type th {\n",
       "        text-align: right;\n",
       "    }\n",
       "</style>\n",
       "<table border=\"1\" class=\"dataframe\">\n",
       "  <thead>\n",
       "    <tr>\n",
       "      <th></th>\n",
       "      <th colspan=\"2\" halign=\"left\">raised_amount_usd</th>\n",
       "    </tr>\n",
       "    <tr>\n",
       "      <th></th>\n",
       "      <th>Total_amount</th>\n",
       "      <th>Total_count</th>\n",
       "    </tr>\n",
       "    <tr>\n",
       "      <th>main_sector</th>\n",
       "      <th></th>\n",
       "      <th></th>\n",
       "    </tr>\n",
       "  </thead>\n",
       "  <tbody>\n",
       "    <tr>\n",
       "      <th>Others</th>\n",
       "      <td>1013.409507</td>\n",
       "      <td>110</td>\n",
       "    </tr>\n",
       "    <tr>\n",
       "      <th>Social, Finance, Analytics, Advertising</th>\n",
       "      <td>550.549550</td>\n",
       "      <td>60</td>\n",
       "    </tr>\n",
       "    <tr>\n",
       "      <th>News, Search and Messaging</th>\n",
       "      <td>433.834545</td>\n",
       "      <td>52</td>\n",
       "    </tr>\n",
       "    <tr>\n",
       "      <th>Entertainment</th>\n",
       "      <td>280.830000</td>\n",
       "      <td>33</td>\n",
       "    </tr>\n",
       "    <tr>\n",
       "      <th>Manufacturing</th>\n",
       "      <td>200.900000</td>\n",
       "      <td>21</td>\n",
       "    </tr>\n",
       "    <tr>\n",
       "      <th>Cleantech / Semiconductors</th>\n",
       "      <td>165.380000</td>\n",
       "      <td>20</td>\n",
       "    </tr>\n",
       "    <tr>\n",
       "      <th>Health</th>\n",
       "      <td>167.740000</td>\n",
       "      <td>19</td>\n",
       "    </tr>\n",
       "    <tr>\n",
       "      <th>Automotive &amp; Sports</th>\n",
       "      <td>136.900000</td>\n",
       "      <td>13</td>\n",
       "    </tr>\n",
       "  </tbody>\n",
       "</table>\n",
       "</div>"
      ],
      "text/plain": [
       "                                        raised_amount_usd            \n",
       "                                             Total_amount Total_count\n",
       "main_sector                                                          \n",
       "Others                                        1013.409507         110\n",
       "Social, Finance, Analytics, Advertising        550.549550          60\n",
       "News, Search and Messaging                     433.834545          52\n",
       "Entertainment                                  280.830000          33\n",
       "Manufacturing                                  200.900000          21\n",
       "Cleantech / Semiconductors                     165.380000          20\n",
       "Health                                         167.740000          19\n",
       "Automotive & Sports                            136.900000          13"
      ]
     },
     "execution_count": 41,
     "metadata": {},
     "output_type": "execute_result"
    }
   ],
   "source": [
    "D3_sector = D3[['raised_amount_usd','main_sector']].groupby('main_sector').agg(['sum', 'count']).rename(columns={'sum':'Total_amount','count' : 'Total_count'})\n",
    "D3_sector.sort_values(('raised_amount_usd', 'Total_count'), ascending = False)"
   ]
  },
  {
   "cell_type": "code",
   "execution_count": 42,
   "metadata": {},
   "outputs": [
    {
     "data": {
      "image/png": "[encoded data removed]",
      "text/plain": [
       "<Figure size 432x288 with 1 Axes>"
      ]
     },
     "metadata": {
      "needs_background": "light"
     },
     "output_type": "display_data"
    }
   ],
   "source": [
    "D3_sector.raised_amount_usd.plot(kind='bar', ylabel = 'Raised amount USD in millions', title = 'Main sector for India')\n",
    "plt.show()"
   ]
  },
  {
   "cell_type": "code",
   "execution_count": 43,
   "metadata": {},
   "outputs": [
    {
     "data": {
      "text/plain": [
       "main_sector  name       \n",
       "Others       Virtustream    64.3\n",
       "Name: raised_amount_usd, dtype: float64"
      ]
     },
     "execution_count": 43,
     "metadata": {},
     "output_type": "execute_result"
    }
   ],
   "source": [
    "# US - For the top sector count-wise (point 3), which company received the highest investment \n",
    "D1[D1['main_sector'] == 'Others'].groupby(['main_sector', 'name']).raised_amount_usd.sum().sort_values(ascending=False).head(1)"
   ]
  },
  {
   "cell_type": "code",
   "execution_count": 44,
   "metadata": {},
   "outputs": [
    {
     "data": {
      "text/plain": [
       "main_sector                              name                           \n",
       "Social, Finance, Analytics, Advertising  SST Inc. (Formerly ShotSpotter)    67.933006\n",
       "Name: raised_amount_usd, dtype: float64"
      ]
     },
     "execution_count": 44,
     "metadata": {},
     "output_type": "execute_result"
    }
   ],
   "source": [
    "# US - For the second-best sector count-wise (point 4), which company received the highest investment?\n",
    "D1[D1['main_sector'] == 'Social, Finance, Analytics, Advertising'].groupby(['main_sector', 'name']).raised_amount_usd.sum().sort_values(ascending=False).head(1)"
   ]
  },
  {
   "cell_type": "code",
   "execution_count": 45,
   "metadata": {},
   "outputs": [
    {
     "data": {
      "text/plain": [
       "main_sector  name          \n",
       "Others       Electric Cloud    37.0\n",
       "Name: raised_amount_usd, dtype: float64"
      ]
     },
     "execution_count": 45,
     "metadata": {},
     "output_type": "execute_result"
    }
   ],
   "source": [
    "# for GBR, which company received the highest investment?\n",
    "D2[D2['main_sector'] == 'Others'].groupby(['main_sector', 'name']).raised_amount_usd.sum().sort_values(ascending=False).head(1)"
   ]
  },
  {
   "cell_type": "code",
   "execution_count": 46,
   "metadata": {},
   "outputs": [
    {
     "data": {
      "text/plain": [
       "main_sector                              name                 \n",
       "Social, Finance, Analytics, Advertising  Celltick Technologies    37.5\n",
       "Name: raised_amount_usd, dtype: float64"
      ]
     },
     "execution_count": 46,
     "metadata": {},
     "output_type": "execute_result"
    }
   ],
   "source": [
    "#GBR - For the second-best sector count-wise  which company received the highest investment?\n",
    "D2[D2['main_sector'] == 'Social, Finance, Analytics, Advertising'].groupby(['main_sector', 'name']).raised_amount_usd.sum().sort_values(ascending=False).head(1)"
   ]
  },
  {
   "cell_type": "code",
   "execution_count": 47,
   "metadata": {},
   "outputs": [
    {
     "data": {
      "text/plain": [
       "main_sector  name        \n",
       "Others       FirstCry.com    39.0\n",
       "Name: raised_amount_usd, dtype: float64"
      ]
     },
     "execution_count": 47,
     "metadata": {},
     "output_type": "execute_result"
    }
   ],
   "source": [
    "# for IND , which company received the highest investment?\n",
    "D3[D3['main_sector'] == 'Others'].groupby(['main_sector', 'name']).raised_amount_usd.sum().sort_values(ascending=False).head(1)"
   ]
  },
  {
   "cell_type": "code",
   "execution_count": 48,
   "metadata": {},
   "outputs": [
    {
     "data": {
      "text/plain": [
       "main_sector                              name           \n",
       "Social, Finance, Analytics, Advertising  Manthan Systems    50.7\n",
       "Name: raised_amount_usd, dtype: float64"
      ]
     },
     "execution_count": 48,
     "metadata": {},
     "output_type": "execute_result"
    }
   ],
   "source": [
    "#For IND - the second-best sector count-wise (point 4), which company received the highest investment?\n",
    "D3[D3['main_sector'] == 'Social, Finance, Analytics, Advertising'].groupby(['main_sector', 'name']).raised_amount_usd.sum().sort_values(ascending=False).head(1)"
   ]
  },
  {
   "cell_type": "code",
   "execution_count": 49,
   "metadata": {},
   "outputs": [
    {
     "name": "stdout",
     "output_type": "stream",
     "text": [
      "main_sector                 name    \n",
      "Cleantech / Semiconductors  Biodesix    75.3\n",
      "Name: raised_amount_usd, dtype: float64\n",
      "main_sector                 name       \n",
      "Cleantech / Semiconductors  EUSA Pharma    35.6\n",
      "Name: raised_amount_usd, dtype: float64\n",
      "main_sector                 name   \n",
      "News, Search and Messaging  GupShup    33.0\n",
      "Name: raised_amount_usd, dtype: float64\n"
     ]
    }
   ],
   "source": [
    "#For the third-best sector count-wise, which company received the highest investment \n",
    "# US\n",
    "print(D1[D1['main_sector'] == 'Cleantech / Semiconductors'].groupby(['main_sector', 'name']).raised_amount_usd.sum().sort_values(ascending=False).head(1))\n",
    "# GB\n",
    "print(D2[D2['main_sector'] == 'Cleantech / Semiconductors'].groupby(['main_sector', 'name']).raised_amount_usd.sum().sort_values(ascending=False).head(1))\n",
    "# IND\n",
    "print(D3[D3['main_sector'] == 'News, Search and Messaging'].groupby(['main_sector', 'name']).raised_amount_usd.sum().sort_values(ascending=False).head(1))"
   ]
  }
 ],
 "metadata": {
  "kernelspec": {
   "display_name": "Python 3",
   "language": "python",
   "name": "python3"
  },
  "language_info": {
   "codemirror_mode": {
    "name": "ipython",
    "version": 3
   },
   "file_extension": ".py",
   "mimetype": "text/x-python",
   "name": "python",
   "nbconvert_exporter": "python",
   "pygments_lexer": "ipython3",
   "version": "3.8.5"
  }
 },
 "nbformat": 4,
 "nbformat_minor": 4
}
